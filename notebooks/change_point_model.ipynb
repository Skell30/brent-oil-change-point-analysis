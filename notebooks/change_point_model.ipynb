{
 "cells": [
  {
   "cell_type": "code",
   "execution_count": null,
   "id": "546ad1de",
   "metadata": {},
   "outputs": [],
   "source": [
    "import pandas as pd\n",
    "import numpy as np\n",
    "import pymc as pm\n",
    "import matplotlib.pyplot as plt\n",
    "import arviz as az"
   ]
  },
  {
   "cell_type": "code",
   "execution_count": null,
   "id": "8990998d",
   "metadata": {},
   "outputs": [],
   "source": [
    "# Load and prepare data\n",
    "df = pd.read_csv(r'/content/bren.csv')\n",
    "df['Date'] = pd.to_datetime(df['Date'])\n",
    "df.sort_values('Date', inplace=True)\n",
    "\n",
    "\n"
   ]
  },
  {
   "cell_type": "code",
   "execution_count": null,
   "id": "QCTtC8JeuKa3",
   "metadata": {},
   "outputs": [],
   "source": [
    "df.head()"
   ]
  },
  {
   "cell_type": "code",
   "execution_count": null,
   "id": "9c476df2",
   "metadata": {},
   "outputs": [],
   "source": [
    "# Proper resampling with Date preserved\n",
    "monthly_df = df.resample('M', on='Date').last().copy()\n",
    "monthly_df['LogReturn'] = np.log(monthly_df['Price'] / monthly_df['Price'].shift(1))\n",
    "monthly_df.dropna(inplace=True)\n",
    "\n",
    "# Ensure 'Date' becomes a column again\n",
    "monthly_df.reset_index(inplace=True)\n",
    "\n"
   ]
  },
  {
   "cell_type": "code",
   "execution_count": null,
   "id": "Oaz9U5j6xy6R",
   "metadata": {},
   "outputs": [],
   "source": [
    "monthly_df.head()"
   ]
  },
  {
   "cell_type": "code",
   "execution_count": null,
   "id": "e712beed",
   "metadata": {},
   "outputs": [],
   "source": [
    "# 🎯 Step 4: Prepare log return data for modeling\n",
    "returns = monthly_df['LogReturn'].values\n",
    "n = len(returns)\n",
    "print(f\"Number of monthly data points: {n}\")"
   ]
  },
  {
   "cell_type": "code",
   "execution_count": null,
   "id": "c897a5a0",
   "metadata": {},
   "outputs": [],
   "source": [
    "returns_std = (returns - np.mean(returns)) / np.std(returns)\n",
    "\n",
    "with pm.Model() as model:\n",
    "    tau = pm.DiscreteUniform('tau', lower=0, upper=n-1)\n",
    "    mu1 = pm.Normal('mu1', mu=0, sigma=1)\n",
    "    mu2 = pm.Normal('mu2', mu=0, sigma=1)\n",
    "    sigma = pm.HalfNormal('sigma', sigma=1)\n",
    "    mu = pm.math.switch(tau >= np.arange(n), mu1, mu2)\n",
    "    obs = pm.Normal('obs', mu=mu, sigma=sigma, observed=returns_std)\n",
    "\n",
    "    trace = pm.sample(\n",
    "        4000, tune=2000,\n",
    "        chains=4, cores=4,\n",
    "        target_accept=0.95,\n",
    "        return_inferencedata=True,\n",
    "        random_seed=42\n",
    "    )"
   ]
  },
  {
   "cell_type": "code",
   "execution_count": null,
   "id": "c7fdfe2e",
   "metadata": {},
   "outputs": [],
   "source": [
    "# Trace plots to check convergence\n",
    "az.plot_trace(trace)\n",
    "plt.tight_layout()\n",
    "plt.show()\n",
    "\n",
    "# Summary statistics\n",
    "summary = az.summary(trace, hdi_prob=0.95)\n",
    "print(summary)"
   ]
  },
  {
   "cell_type": "code",
   "execution_count": null,
   "id": "8RK0VtWVwS-l",
   "metadata": {},
   "outputs": [],
   "source": [
    "print(monthly_df.head())\n",
    "\n"
   ]
  },
  {
   "cell_type": "code",
   "execution_count": null,
   "id": "LXn98b3AvdrG",
   "metadata": {},
   "outputs": [],
   "source": [
    "# Step 7: Extract most likely change point index and visualize\n",
    "\n",
    "# Get tau samples from the posterior and compute the most likely index\n",
    "tau_samples = trace.posterior['tau'].values.flatten()\n",
    "most_likely_tau = int(np.median(tau_samples))\n",
    "\n",
    "# Get the date corresponding to the change point index\n",
    "change_date = monthly_df.loc[most_likely_tau, 'Date']\n",
    "\n",
    "print(f\"Detected change point at index {most_likely_tau}, which corresponds to {change_date}\")\n",
    "\n",
    "# Plot the log returns with the detected change point\n",
    "plt.figure(figsize=(14, 5))\n",
    "plt.plot(monthly_df['Date'], monthly_df['LogReturn'], label='Log Return', color='blue')\n",
    "plt.axvline(change_date, color='red', linestyle='--', label=f'Change Point: {change_date.date()}')\n",
    "plt.title('Detected Change Point in Monthly Brent Oil Log Returns')\n",
    "plt.xlabel('Date')\n",
    "plt.ylabel('Log Return')\n",
    "plt.legend()\n",
    "plt.grid(True)\n",
    "plt.tight_layout()\n",
    "plt.show()\n",
    "\n"
   ]
  },
  {
   "cell_type": "code",
   "execution_count": null,
   "id": "_jIqVRdVTwhr",
   "metadata": {},
   "outputs": [],
   "source": [
    "events = pd.read_csv(r'/content/event_data_extended.csv')  # Adjust path if needed"
   ]
  },
  {
   "cell_type": "code",
   "execution_count": null,
   "id": "pmTpKbayT0kk",
   "metadata": {},
   "outputs": [],
   "source": [
    "events.head()"
   ]
  },
  {
   "cell_type": "code",
   "execution_count": null,
   "id": "EX3Q4RfOS-vF",
   "metadata": {},
   "outputs": [],
   "source": [
    "\n",
    "events = events[['event_name', 'date', 'description']]  # Drop unwanted columns\n",
    "events['date'] = pd.to_datetime(events['date'])  # Convert to datetime\n"
   ]
  },
  {
   "cell_type": "code",
   "execution_count": null,
   "id": "0F-hKTK8Uf-y",
   "metadata": {},
   "outputs": [],
   "source": [
    "# Find events near the detected change point (±30 days)\n",
    "nearby_events = events[\n",
    "    (events['date'] >= change_date - pd.Timedelta(days=30)) &\n",
    "    (events['date'] <= change_date + pd.Timedelta(days=30))\n",
    "]\n",
    "\n",
    "print(\"Events near detected change point:\")\n",
    "print(nearby_events)\n"
   ]
  },
  {
   "cell_type": "code",
   "execution_count": null,
   "id": "jqmT_aJVVkUv",
   "metadata": {},
   "outputs": [],
   "source": [
    "print(\"Change point date:\", change_date)\n"
   ]
  },
  {
   "cell_type": "code",
   "execution_count": null,
   "id": "KU2cf3jbV6Me",
   "metadata": {},
   "outputs": [],
   "source": [
    "events.sort_values('date')\n"
   ]
  },
  {
   "cell_type": "code",
   "execution_count": null,
   "id": "C3oVzIb1V9Cq",
   "metadata": {},
   "outputs": [],
   "source": [
    "nearby_events = events[\n",
    "    (events['date'] >= change_date - pd.Timedelta(days=6000)) &\n",
    "    (events['date'] <= change_date + pd.Timedelta(days=6000))\n",
    "]\n",
    "\n",
    "print(\"Events within ±6000 days:\")\n",
    "print(nearby_events)\n"
   ]
  },
  {
   "cell_type": "code",
   "execution_count": null,
   "id": "E3HiayZGWj7K",
   "metadata": {},
   "outputs": [],
   "source": [
    "print(\"Detected change point date:\", change_date)\n"
   ]
  },
  {
   "cell_type": "code",
   "execution_count": null,
   "id": "-XSQZLtypvyz",
   "metadata": {},
   "outputs": [],
   "source": [
    "# Calculate mean returns before and after the detected change point\n",
    "before_returns = monthly_df.loc[:most_likely_tau - 1, 'LogReturn']\n",
    "after_returns = monthly_df.loc[most_likely_tau:, 'LogReturn']\n",
    "\n",
    "mean_before = before_returns.mean()\n",
    "mean_after = after_returns.mean()\n",
    "\n",
    "# Compute percent change relative to the magnitude of mean before\n",
    "percentage_change = 100 * (mean_after - mean_before) / abs(mean_before)\n",
    "\n",
    "print(f\"Mean monthly return before change point: {mean_before:.4%}\")\n",
    "print(f\"Mean monthly return after change point: {mean_after:.4%}\")\n",
    "print(f\"Percentage change in average return: {percentage_change:.2f}%\")\n"
   ]
  },
  {
   "cell_type": "code",
   "execution_count": null,
   "id": "c5a017c7",
   "metadata": {},
   "outputs": [],
   "source": [
    "jupyter nbconvert --ClearMetadataPreprocessor.enabled=True --clear-output --inplace change_point_model.ipynb\n"
   ]
  }
 ],
 "metadata": {
  "language_info": {
   "name": "python"
  }
 },
 "nbformat": 4,
 "nbformat_minor": 5
}
